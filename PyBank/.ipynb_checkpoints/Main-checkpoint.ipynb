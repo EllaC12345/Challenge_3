{
 "cells": [
  {
   "cell_type": "code",
   "execution_count": 1,
   "id": "67d29ab0",
   "metadata": {},
   "outputs": [],
   "source": [
    "import os\n",
    "import csv\n",
    "\n"
   ]
  },
  {
   "cell_type": "code",
   "execution_count": 2,
   "id": "11b75bce",
   "metadata": {},
   "outputs": [],
   "source": [
    "budget_data = os.path.join(\"/Users/ellandalla/Desktop/Challenge_3/PyBank\", \"Resources\", \"budget_data.csv\")"
   ]
  },
  {
   "cell_type": "code",
   "execution_count": 3,
   "id": "7f35bf58",
   "metadata": {},
   "outputs": [
    {
     "data": {
      "text/plain": [
       "'/Users/ellandalla/Desktop/Challenge_3/PyBank/Resources/budget_data.csv'"
      ]
     },
     "execution_count": 3,
     "metadata": {},
     "output_type": "execute_result"
    }
   ],
   "source": [
    "budget_data"
   ]
  },
  {
   "cell_type": "code",
   "execution_count": 27,
   "id": "9c37ac50",
   "metadata": {},
   "outputs": [
    {
     "name": "stdout",
     "output_type": "stream",
     "text": [
      "[['Date', 'Profit/Losses'], ['Jan-10', '1088983'], ['Feb-10', '-354534'], ['Mar-10', '276622'], ['Apr-10', '-728133'], ['May-10', '852993'], ['Jun-10', '563721'], ['Jul-10', '-535208'], ['Aug-10', '632349'], ['Sep-10', '-173744'], ['Oct-10', '950741'], ['Nov-10', '-785750'], ['Dec-10', '-1194133'], ['Jan-11', '-589576'], ['Feb-11', '-883921'], ['Mar-11', '443564'], ['Apr-11', '837887'], ['May-11', '1081472'], ['Jun-11', '464033'], ['Jul-11', '-1066544'], ['Aug-11', '323846'], ['Sep-11', '-806551'], ['Oct-11', '487053'], ['Nov-11', '1128811'], ['Dec-11', '791398'], ['Jan-12', '739367'], ['Feb-12', '-197825'], ['Mar-12', '666016'], ['Apr-12', '589771'], ['May-12', '489290'], ['Jun-12', '-471439'], ['Jul-12', '120417'], ['Aug-12', '175347'], ['Sep-12', '855449'], ['Oct-12', '605195'], ['Nov-12', '-235220'], ['Dec-12', '347138'], ['Jan-13', '298510'], ['Feb-13', '163254'], ['Mar-13', '1141840'], ['Apr-13', '542630'], ['May-13', '99841'], ['Jun-13', '752765'], ['Jul-13', '-252949'], ['Aug-13', '914424'], ['Sep-13', '679524'], ['Oct-13', '514377'], ['Nov-13', '462102'], ['Dec-13', '159782'], ['Jan-14', '878810'], ['Feb-14', '-946748'], ['Mar-14', '340335'], ['Apr-14', '292032'], ['May-14', '502266'], ['Jun-14', '265852'], ['Jul-14', '851017'], ['Aug-14', '-549615'], ['Sep-14', '290162'], ['Oct-14', '755391'], ['Nov-14', '1073202'], ['Dec-14', '313000'], ['Jan-15', '241132'], ['Feb-15', '1036589'], ['Mar-15', '853904'], ['Apr-15', '-388932'], ['May-15', '982952'], ['Jun-15', '537759'], ['Jul-15', '547784'], ['Aug-15', '-496214'], ['Sep-15', '854181'], ['Oct-15', '934719'], ['Nov-15', '-288531'], ['Dec-15', '-184383'], ['Jan-16', '659541'], ['Feb-16', '-1149123'], ['Mar-16', '355882'], ['Apr-16', '662284'], ['May-16', '518681'], ['Jun-16', '-748256'], ['Jul-16', '-910775'], ['Aug-16', '951227'], ['Sep-16', '898241'], ['Oct-16', '-729004'], ['Nov-16', '-112209'], ['Dec-16', '516313'], ['Jan-17', '607208'], ['Feb-17', '382539']]\n"
     ]
    }
   ],
   "source": [
    "## Create list to upload data\n",
    "date = []\n",
    "PnL = []\n",
    "budget_data_List = []\n",
    "## Import csv data(dates and P&L) into distictive lists\n",
    "with open(budget_data, encoding= 'utf-8') as csvfile:\n",
    "    csvreader = csv.reader(csvfile, delimiter = \",\")\n",
    "    #print (next(csvreader))\n",
    "    for row in csvreader:\n",
    "        budget_data_List.append(row)\n",
    "## check that data has been imported into lists\n",
    "    #print(date)\n",
    "    #print (PnL)\n",
    "    print(budget_data_List)\n",
    "    \n",
    "        "
   ]
  },
  {
   "cell_type": "code",
   "execution_count": 35,
   "id": "2bfac4d3",
   "metadata": {},
   "outputs": [
    {
     "name": "stdout",
     "output_type": "stream",
     "text": [
      "86\n"
     ]
    }
   ],
   "source": [
    "## Determine Total number of months included in datasets\n",
    "Total_Number_of_Months = len(budget_data_List[1:])\n",
    "print (Total_Number_of_Months)\n",
    "    \n",
    "\n"
   ]
  },
  {
   "cell_type": "code",
   "execution_count": 43,
   "id": "2aa78a50",
   "metadata": {},
   "outputs": [
    {
     "name": "stdout",
     "output_type": "stream",
     "text": [
      "22564198\n"
     ]
    }
   ],
   "source": [
    "# Determine The net total amount of \"Profit/Losses\" over the entire period\n",
    "PnL = 0\n",
    "for item in (budget_data_List[1:]):\n",
    "    PnL += int(item[1])\n",
    "\n",
    "print (PnL)"
   ]
  },
  {
   "cell_type": "code",
   "execution_count": 50,
   "id": "2e23759d",
   "metadata": {},
   "outputs": [
    {
     "name": "stdout",
     "output_type": "stream",
     "text": [
      "[-1443517, 631156, -1004755, 1581126, -289272, -1098929, 1167557, -806093, 1124485, -1736491, -408383, 604557, -294345, 1327485, 394323, 243585, -617439, -1530577, 1390390, -1130397, 1293604, 641758, -337413, -52031, -937192, 863841, -76245, -100481, -960729, 591856, 54930, 680102, -250254, -840415, 582358, -48628, -135256, 978586, -599210, -442789, 652924, -1005714, 1167373, -234900, -165147, -52275, -302320, 719028, -1825558, 1287083, -48303, 210234, -236414, 585165, -1400632, 839777, 465229, 317811, -760202, -71868, 795457, -182685, -1242836, 1371884, -445193, 10025, -1043998, 1350395, 80538, -1223250, 104148, 843924, -1808664, 1505005, 306402, -143603, -1266937, -162519, 1862002, -52986, -1627245, 616795, 628522, 90895, -224669]\n"
     ]
    }
   ],
   "source": [
    "## Determine the changes in \"Profit/Losses\" over the entire period, \n",
    "PnL_changes = []\n",
    "for item in range(2, len(budget_data_List)):\n",
    "    current_retun = int(budget_data_List[item][1])\n",
    "    previous_return = int(budget_data_List[item-1][1])\n",
    "    change = current_retun - previous_return\n",
    "    PnL_changes.append(change)\n",
    "print(PnL_changes)"
   ]
  },
  {
   "cell_type": "code",
   "execution_count": 52,
   "id": "f432f8f0",
   "metadata": {},
   "outputs": [
    {
     "name": "stdout",
     "output_type": "stream",
     "text": [
      "-8311.105882352942\n"
     ]
    }
   ],
   "source": [
    "## Determine Average Changes to PNL Changes\n",
    "Average_Change = sum(PnL_changes)/len(PnL_changes)\n",
    "print(Average_Change)"
   ]
  },
  {
   "cell_type": "code",
   "execution_count": 64,
   "id": "27760cc9",
   "metadata": {},
   "outputs": [
    {
     "name": "stdout",
     "output_type": "stream",
     "text": [
      "Max Change 1862002\n",
      "Max Change Date Aug-16\n"
     ]
    }
   ],
   "source": [
    "## Determine the greatest increase:\n",
    "## Determine max profit\n",
    "max_change = max(PnL_changes)\n",
    "## determine index of max profit from listing\n",
    "max_change_index = PnL_changes.index(max_change)\n",
    "##print (max_change_date)\n",
    "# Determine the associated date:\n",
    "Max_change_date = budget_data_List[max_change_index + 2][0]\n",
    "\n",
    "print(\"Max Change\", max_change )\n",
    "print (\"Max Change Date\", Max_change_date)"
   ]
  },
  {
   "cell_type": "code",
   "execution_count": 66,
   "id": "88f1871a",
   "metadata": {},
   "outputs": [
    {
     "name": "stdout",
     "output_type": "stream",
     "text": [
      "Greatest Decrease -1825558\n",
      "Greatest Decrease Date Feb-14\n"
     ]
    }
   ],
   "source": [
    "## Determine Max Loss or greatest decrease\n",
    "Max_loss = min(PnL_changes)\n",
    "\n",
    "## Determine related index\n",
    "Max_Loss_Index = PnL_changes.index(Max_loss)\n",
    "\n",
    "## Determine Associated Date\n",
    "Max_Loss_Date = (budget_data_List[Max_Loss_Index +2][0])\n",
    "print (\"Greatest Decrease\", Max_loss)\n",
    "print (\"Greatest Decrease Date\", Max_Loss_Date)\n",
    "                 \n",
    "            "
   ]
  },
  {
   "cell_type": "code",
   "execution_count": null,
   "id": "c2cdce6c",
   "metadata": {},
   "outputs": [],
   "source": []
  },
  {
   "cell_type": "code",
   "execution_count": null,
   "id": "35a7f619",
   "metadata": {},
   "outputs": [],
   "source": []
  }
 ],
 "metadata": {
  "kernelspec": {
   "display_name": "Python 3 (ipykernel)",
   "language": "python",
   "name": "python3"
  },
  "language_info": {
   "codemirror_mode": {
    "name": "ipython",
    "version": 3
   },
   "file_extension": ".py",
   "mimetype": "text/x-python",
   "name": "python",
   "nbconvert_exporter": "python",
   "pygments_lexer": "ipython3",
   "version": "3.10.9"
  }
 },
 "nbformat": 4,
 "nbformat_minor": 5
}
