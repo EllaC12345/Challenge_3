{
 "cells": [
  {
   "cell_type": "code",
   "execution_count": 1,
   "id": "0da94a94",
   "metadata": {},
   "outputs": [],
   "source": [
    "import os\n",
    "import csv\n"
   ]
  },
  {
   "cell_type": "code",
   "execution_count": 2,
   "id": "fbf0156f",
   "metadata": {},
   "outputs": [],
   "source": [
    "election_data = os.path.join('/Users/ellandalla/Desktop/Challenge_3/PyPoll/Resources/election_data.csv')"
   ]
  },
  {
   "cell_type": "code",
   "execution_count": 3,
   "id": "2ed0561f",
   "metadata": {},
   "outputs": [
    {
     "name": "stdout",
     "output_type": "stream",
     "text": [
      "[['Ballot ID', 'County', 'Candidate'], ['1323913', 'Jefferson', 'Charles Casper Stockham'], ['1005842', 'Jefferson', 'Charles Casper Stockham'], ['1880345', 'Jefferson', 'Charles Casper Stockham'], ['1600337', 'Jefferson', 'Charles Casper Stockham'], ['1835994', 'Jefferson', 'Charles Casper Stockham'], ['1772756', 'Jefferson', 'Charles Casper Stockham'], ['1920023', 'Jefferson', 'Charles Casper Stockham'], ['1040408', 'Jefferson', 'Charles Casper Stockham'], ['1018414', 'Jefferson', 'Charles Casper Stockham']]\n"
     ]
    }
   ],
   "source": [
    "#Read CSV File and transform into a listelection = []\n",
    "election = []\n",
    "with open (election_data, encoding = 'utf=8') as csvfile:\n",
    "    csvreader = csv.reader(csvfile, delimiter= ',')\n",
    "    #print(next(csvreader))\n",
    "    for row in csvreader:\n",
    "        election.append(row)\n",
    "    print(election[:10])"
   ]
  },
  {
   "cell_type": "code",
   "execution_count": 4,
   "id": "54a838f1",
   "metadata": {},
   "outputs": [
    {
     "name": "stdout",
     "output_type": "stream",
     "text": [
      "369711\n"
     ]
    }
   ],
   "source": [
    "## Determine the total number of votes:\n",
    "votes = []\n",
    "for row in election[1:]:\n",
    "    votes.append(row[0])\n",
    "\n",
    "Total_votes = (len(votes))\n",
    "print(Total_votes)\n"
   ]
  },
  {
   "cell_type": "code",
   "execution_count": 5,
   "id": "41b9805a",
   "metadata": {},
   "outputs": [
    {
     "name": "stdout",
     "output_type": "stream",
     "text": [
      "['Raymon Anthony Doane', 'Raymon Anthony Doane', 'Raymon Anthony Doane', 'Raymon Anthony Doane', 'Raymon Anthony Doane', 'Raymon Anthony Doane', 'Raymon Anthony Doane', 'Raymon Anthony Doane', 'Raymon Anthony Doane', 'Raymon Anthony Doane', 'Raymon Anthony Doane']\n"
     ]
    }
   ],
   "source": [
    "## List of Candidates who received votes \n",
    "candidates = []\n",
    "for row in election[1:]:\n",
    "    if row[0] is not None:\n",
    "        candidates.append(row[2])\n",
    "print (candidates[-11:])\n",
    "\n",
    "    "
   ]
  },
  {
   "cell_type": "code",
   "execution_count": 6,
   "id": "4df81440",
   "metadata": {},
   "outputs": [
    {
     "name": "stdout",
     "output_type": "stream",
     "text": [
      "['Diana DeGette', 'Charles Casper Stockham', 'Raymon Anthony Doane']\n"
     ]
    }
   ],
   "source": [
    "## list of unique candidates\n",
    "unique_candidates = list(set(candidates))\n",
    "print (unique_candidates)"
   ]
  },
  {
   "cell_type": "code",
   "execution_count": 7,
   "id": "31cc2df6",
   "metadata": {},
   "outputs": [
    {
     "name": "stdout",
     "output_type": "stream",
     "text": [
      "85213\n",
      "Charles Casper Stockham:23.05% or (85213) votes\n"
     ]
    }
   ],
   "source": [
    "## The percentage of votes each candidates won - Charles Casper Stockham\n",
    "# Total votes obatined by Charles Casper Stockham\n",
    "CCS_Vote = 0\n",
    "for candidate in candidates:\n",
    "    if candidate == 'Charles Casper Stockham':\n",
    "        CCS_Vote += 1\n",
    "print (CCS_Vote)\n",
    "\n",
    "# Percentage votes \n",
    "CCS_percentage_vote = (\"{:.2%}\".format(CCS_Vote/Total_votes))\n",
    "print(f\"Charles Casper Stockham:{CCS_percentage_vote} or ({CCS_Vote}) votes\")\n",
    "\n"
   ]
  },
  {
   "cell_type": "code",
   "execution_count": 8,
   "id": "a0aeca90",
   "metadata": {},
   "outputs": [
    {
     "name": "stdout",
     "output_type": "stream",
     "text": [
      "11606\n",
      "Raymon Anthony Doane:3.14% or (11606) votes\n"
     ]
    }
   ],
   "source": [
    "## The percentage of votes each candidates won - Raymon Anthony Doane\n",
    "# Total votes obatined by Raymon Anthony Doane\n",
    "RAD_Vote = 0\n",
    "for candidate in candidates:\n",
    "    if candidate == 'Raymon Anthony Doane':\n",
    "        RAD_Vote += 1\n",
    "print (RAD_Vote)\n",
    "# Percentage votes \n",
    "RAD_percentage_vote = (\"{:.2%}\".format(RAD_Vote/Total_votes))\n",
    "print(f\"Raymon Anthony Doane:{RAD_percentage_vote} or ({RAD_Vote}) votes\")"
   ]
  },
  {
   "cell_type": "code",
   "execution_count": 9,
   "id": "cc94a6a2",
   "metadata": {},
   "outputs": [
    {
     "name": "stdout",
     "output_type": "stream",
     "text": [
      "272892\n",
      "Diana DeGette:73.81% or 272892 votes\n"
     ]
    }
   ],
   "source": [
    "## The percentage of votes each candidates won - Diana DeGette\n",
    "# Total votes obatined by Diana DeGette\n",
    "DG_Vote = 0\n",
    "for candidate in candidates:\n",
    "    if candidate == 'Diana DeGette':\n",
    "        DG_Vote += 1\n",
    "print (DG_Vote)\n",
    "# Percentage votes \n",
    "DG_percentage_vote = (\"{:.2%}\".format(DG_Vote/Total_votes))\n",
    "print(f\"Diana DeGette:{DG_percentage_vote} or {DG_Vote} votes\")"
   ]
  },
  {
   "cell_type": "code",
   "execution_count": 10,
   "id": "80cf0a0f",
   "metadata": {},
   "outputs": [
    {
     "name": "stdout",
     "output_type": "stream",
     "text": [
      "winner: Diana DeGette\n"
     ]
    }
   ],
   "source": [
    "## Create a function to find the candidate with the maximum number of votes then return the name of that cnadidate\n",
    "def winner():\n",
    "    CCS_Vote = 0\n",
    "    RAD_Vote = 0\n",
    "    DG_Vote = 0\n",
    "    candidates_votes = []\n",
    "    for candidate in candidates:\n",
    "        if candidate == 'Charles Casper Stockham':\n",
    "            CCS_Vote += 1\n",
    "            candidates_votes.append(CCS_Vote)\n",
    "        elif candidate == 'Raymon Anthony Doane':\n",
    "            RAD_Vote += 1\n",
    "            candidates_votes.append(RAD_Vote)\n",
    "        elif candidate == 'Diana DeGette':\n",
    "            DG_Vote += 1\n",
    "            candidates_votes.append(DG_Vote)\n",
    "# find the maximum votes\n",
    "    max_votes = max(candidates_votes)\n",
    "    for candidate, vote in zip(candidates, candidates_votes):\n",
    "        if vote == max_votes:\n",
    "            return (candidate)\n",
    "candidate_winner = winner()\n",
    "print(\"winner:\", candidate_winner)"
   ]
  },
  {
   "cell_type": "code",
   "execution_count": 13,
   "id": "58bbe187",
   "metadata": {},
   "outputs": [],
   "source": [
    "results = \n",
    "# Saving the results into a jupiter notebook\n",
    "file_path = \"main.txt\"\n",
    "\n",
    "with open(file_path, 'w') as file:\n",
    "    file.write(results)"
   ]
  },
  {
   "cell_type": "code",
   "execution_count": null,
   "id": "b81d6ba2",
   "metadata": {},
   "outputs": [],
   "source": []
  }
 ],
 "metadata": {
  "kernelspec": {
   "display_name": "Python 3 (ipykernel)",
   "language": "python",
   "name": "python3"
  },
  "language_info": {
   "codemirror_mode": {
    "name": "ipython",
    "version": 3
   },
   "file_extension": ".py",
   "mimetype": "text/x-python",
   "name": "python",
   "nbconvert_exporter": "python",
   "pygments_lexer": "ipython3",
   "version": "3.10.9"
  }
 },
 "nbformat": 4,
 "nbformat_minor": 5
}
