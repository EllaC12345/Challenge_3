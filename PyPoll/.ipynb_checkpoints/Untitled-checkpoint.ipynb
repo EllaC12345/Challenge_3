{
 "cells": [
  {
   "cell_type": "code",
   "execution_count": 1,
   "id": "9c411e5e",
   "metadata": {},
   "outputs": [],
   "source": [
    "import os\n",
    "import csv\n"
   ]
  },
  {
   "cell_type": "code",
   "execution_count": 25,
   "id": "13b998f8",
   "metadata": {},
   "outputs": [],
   "source": [
    "election_data = os.path.join('/Users/ellandalla/Desktop/Challenge_3/PyPoll/Resources/election_data.csv')"
   ]
  },
  {
   "cell_type": "code",
   "execution_count": 26,
   "id": "dfe6baad",
   "metadata": {},
   "outputs": [
    {
     "name": "stdout",
     "output_type": "stream",
     "text": [
      "[['Ballot ID', 'County', 'Candidate'], ['1323913', 'Jefferson', 'Charles Casper Stockham'], ['1005842', 'Jefferson', 'Charles Casper Stockham'], ['1880345', 'Jefferson', 'Charles Casper Stockham'], ['1600337', 'Jefferson', 'Charles Casper Stockham'], ['1835994', 'Jefferson', 'Charles Casper Stockham'], ['1772756', 'Jefferson', 'Charles Casper Stockham'], ['1920023', 'Jefferson', 'Charles Casper Stockham'], ['1040408', 'Jefferson', 'Charles Casper Stockham'], ['1018414', 'Jefferson', 'Charles Casper Stockham']]\n"
     ]
    }
   ],
   "source": [
    "#Read CSV File and transform into a listelection = []\n",
    "election = []\n",
    "with open (election_data, encoding = 'utf=8') as csvfile:\n",
    "    csvreader = csv.reader(csvfile, delimiter= ',')\n",
    "    #print(next(csvreader))\n",
    "    for row in csvreader:\n",
    "        election.append(row)\n",
    "    print(election[:10])"
   ]
  },
  {
   "cell_type": "code",
   "execution_count": 27,
   "id": "73031764",
   "metadata": {},
   "outputs": [
    {
     "name": "stdout",
     "output_type": "stream",
     "text": [
      "369711\n"
     ]
    }
   ],
   "source": [
    "## Determine the total number of votes:\n",
    "votes = []\n",
    "for row in election[1:]:\n",
    "    votes.append(row[0])\n",
    "\n",
    "Total_votes = (len(votes))\n",
    "print(Total_votes)\n"
   ]
  },
  {
   "cell_type": "code",
   "execution_count": 28,
   "id": "97fc329e",
   "metadata": {},
   "outputs": [
    {
     "name": "stdout",
     "output_type": "stream",
     "text": [
      "['Raymon Anthony Doane', 'Raymon Anthony Doane', 'Raymon Anthony Doane', 'Raymon Anthony Doane', 'Raymon Anthony Doane', 'Raymon Anthony Doane', 'Raymon Anthony Doane', 'Raymon Anthony Doane', 'Raymon Anthony Doane', 'Raymon Anthony Doane', 'Raymon Anthony Doane']\n"
     ]
    }
   ],
   "source": [
    "## List of Candidates who received votes \n",
    "candidates = []\n",
    "for row in election[1:]:\n",
    "    if row[0] is not None:\n",
    "        candidates.append(row[2])\n",
    "print (candidates[-11:])\n",
    "\n",
    "    "
   ]
  },
  {
   "cell_type": "code",
   "execution_count": 29,
   "id": "99022d7b",
   "metadata": {},
   "outputs": [
    {
     "name": "stdout",
     "output_type": "stream",
     "text": [
      "['Charles Casper Stockham', 'Raymon Anthony Doane', 'Diana DeGette']\n"
     ]
    }
   ],
   "source": [
    "## list of unique candidates\n",
    "unique_candidates = list(set(candidates))\n",
    "print (unique_candidates)"
   ]
  },
  {
   "cell_type": "code",
   "execution_count": 40,
   "id": "ca5d237a",
   "metadata": {},
   "outputs": [
    {
     "ename": "SyntaxError",
     "evalue": "invalid syntax (2395576955.py, line 11)",
     "output_type": "error",
     "traceback": [
      "\u001b[0;36m  Cell \u001b[0;32mIn[40], line 11\u001b[0;36m\u001b[0m\n\u001b[0;31m    elif candidate == 'Raymon Anthony Doane':\u001b[0m\n\u001b[0m    ^\u001b[0m\n\u001b[0;31mSyntaxError\u001b[0m\u001b[0;31m:\u001b[0m invalid syntax\n"
     ]
    }
   ],
   "source": [
    "## The percentage of votes each candidates won - Charles Casper Stockham\n",
    "# Total votes obatined by Charles Casper Stockham\n",
    "CCS_Vote = 0\n",
    "\n",
    "\n",
    "candidates_votes = []\n",
    "for candidate in candidates:\n",
    "    if candidate == 'Charles Casper Stockham':\n",
    "        CCS_Vote += 1\n",
    "    \n",
    "    \n",
    "    \n",
    "   \n",
    "        \n",
    "    candidates_votes.append(DG_Vote)\n",
    "\n",
    "                \n",
    "print (CCS_Vote)\n",
    "print (candidates_votes)\n",
    "#print (RAD_Vote)\n",
    "#print (DG_Vote)\n",
    "    \n",
    "# Percentage votes obatined by Charles Casper Stockham:\n",
    "\n",
    "# formatted votes\n",
    "#percentage_votes = []\n",
    "#Total_votes = 369711\n",
    "#for vote in candidates_votes:\n",
    "    #percentage_votes.append(\"{:.2%}\".format(vote/Total_votes))\n",
    "#rint (percentage_votes)\n",
    "\n",
    "#Pert_CCS_Vote = CCS_Vote/Total_votes\n",
    "#ormatted_Pert_CCS_Vote = \"{:.2%}\".format(Pert_CCS_Vote)\n",
    "#print(formatted_Pert_CCS_Vote)\n",
    "\n"
   ]
  },
  {
   "cell_type": "code",
   "execution_count": null,
   "id": "8768f691",
   "metadata": {},
   "outputs": [],
   "source": [
    "## The percentage of votes each candidates won - Raymon Anthony Doane\n",
    "# Total votes obatined by Raymon Anthony Doane\n",
    "#RAD_Vote = 0\n"
   ]
  },
  {
   "cell_type": "code",
   "execution_count": 42,
   "id": "6d81a424",
   "metadata": {},
   "outputs": [
    {
     "name": "stderr",
     "output_type": "stream",
     "text": [
      "IOPub data rate exceeded.\n",
      "The notebook server will temporarily stop sending output\n",
      "to the client in order to avoid crashing it.\n",
      "To change this limit, set the config variable\n",
      "`--NotebookApp.iopub_data_rate_limit`.\n",
      "\n",
      "Current values:\n",
      "NotebookApp.iopub_data_rate_limit=1000000.0 (bytes/sec)\n",
      "NotebookApp.rate_limit_window=3.0 (secs)\n",
      "\n"
     ]
    }
   ],
   "source": [
    "for candidate in candidates:\n",
    "    if candidate == 'Charles Casper Stockham':\n",
    "        CCS_Vote += 1\n",
    "        candidates_votes.append(CCS_Vote)\n",
    "    elif candidate == 'Raymon Anthony Doane':\n",
    "        RAD_Vote += 1\n",
    "        candidates_votes.append(RAD_Vote)\n",
    "    elif candidate == 'Diana DeGette':\n",
    "        DG_Vote += 1\n",
    "        candidates_votes.append(DG_Vote)\n",
    "print (candidates_votes)"
   ]
  },
  {
   "cell_type": "code",
   "execution_count": null,
   "id": "766c78bc",
   "metadata": {},
   "outputs": [],
   "source": [
    "## The percentage of votes each candidates won - Raymon Anthony Doane\n",
    "# Total votes obatined by Raymon Anthony Doane\n",
    "RAD_Vote = 0\n",
    "for candidate in candidates:\n",
    "    if candidate == 'Raymon Anthony Doane':\n",
    "        RAD_Vote += 1"
   ]
  },
  {
   "cell_type": "code",
   "execution_count": null,
   "id": "e5c2de51",
   "metadata": {},
   "outputs": [],
   "source": [
    "## The percentage of votes each candidates won - Diana DeGette\n",
    "# Total votes obatined by Diana DeGette\n",
    "DG_Vote = 0\n",
    "candidates_votes.append(RAD_Vote)\n",
    "    elif candidate == 'Diana DeGette':\n",
    "        DG_Vote += 1"
   ]
  }
 ],
 "metadata": {
  "kernelspec": {
   "display_name": "Python 3 (ipykernel)",
   "language": "python",
   "name": "python3"
  },
  "language_info": {
   "codemirror_mode": {
    "name": "ipython",
    "version": 3
   },
   "file_extension": ".py",
   "mimetype": "text/x-python",
   "name": "python",
   "nbconvert_exporter": "python",
   "pygments_lexer": "ipython3",
   "version": "3.10.9"
  }
 },
 "nbformat": 4,
 "nbformat_minor": 5
}
